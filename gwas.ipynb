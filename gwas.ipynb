{
 "cells": [
  {
   "cell_type": "markdown",
   "metadata": {},
   "source": [
    "# GWAS on Resting Heart Rate\n",
    "\n",
    "Ravi Mandla\n"
   ]
  },
  {
   "cell_type": "code",
   "execution_count": 1,
   "metadata": {},
   "outputs": [],
   "source": [
    "import pandas as pd\n",
    "import os, subprocess\n",
    "import numpy as np\n",
    "import math"
   ]
  },
  {
   "cell_type": "markdown",
   "metadata": {},
   "source": [
    "## Data Download and Parsing\n",
    "\n",
    "We downloaded our data from the UK Biobank, an online collection of biological information on ~500,000 indviduals. All non-genotyping data is stored in a giant csv file, which we parsed to only isolate characteristics of interest. We were specifically interested in heart rate, age, BMI, sex, and ethnicity. These data are stored under data-field ID 102, 21001, 21003, 31, and 21000 respectively.\n",
    "\n",
    "In the giant csv file, there are multiple columns per ID, corresponding to repeat assessments of said characteristics (see https://biobank.ctsu.ox.ac.uk/~bbdatan/Repeat_assessment_doc_v1.0.pdf). To navigate multiple data points per characteristic, we averaged all repeat assessments per column. \n",
    "\n",
    "To reduce bias introduced through population differences due to ethnicity, we restricted our analysis to only individuals who self-reported as \"White\" according to data-field 21000. This includes \"White\", \"British\", \"Irish\", or \"Other White Background\"."
   ]
  },
  {
   "cell_type": "code",
   "execution_count": 2,
   "metadata": {},
   "outputs": [],
   "source": [
    "pheno = pd.read_csv('../ukbiobank/ukb40068.csv', usecols=['eid','102-0.0','102-0.1','102-1.0','102-1.1','102-2.0','102-2.1','102-3.0','102-3.1','21001-0.0','21001-1.0','21001-2.0',\n",
    "                                                          '21001-3.0','21003-0.0','21003-1.0','21003-2.0','21003-3.0','31-0.0','21000-0.0'])"
   ]
  },
  {
   "cell_type": "code",
   "execution_count": 3,
   "metadata": {},
   "outputs": [],
   "source": [
    "# average heart rate\n",
    "justhrs = pheno[['102-0.0','102-0.1','102-1.0','102-1.1','102-2.0','102-2.1','102-3.0','102-3.1']]\n",
    "avhr = justhrs.mean(axis=1,skipna=True)\n",
    "\n",
    "# organize data\n",
    "heartrate = pd.DataFrame()\n",
    "heartrate['FID'] = pheno['eid']\n",
    "heartrate['IID'] = pheno['eid']\n",
    "heartrate['hr'] = avhr\n",
    "heartrate['ethnicity'] = pheno['21000-0.0']\n",
    "\n",
    "# isolate only \"White\" individuals\n",
    "heartrate = heartrate[heartrate['ethnicity'].isin([1,1001,1002,1003])]\n",
    "\n",
    "# drop individuals without heart rate data\n",
    "heartrate = heartrate.dropna(subset=['hr'])"
   ]
  },
  {
   "cell_type": "code",
   "execution_count": 4,
   "metadata": {},
   "outputs": [],
   "source": [
    "covars = pd.DataFrame()\n",
    "\n",
    "# average BMI data\n",
    "bmi = pheno[['21001-0.0','21001-1.0','21001-2.0','21001-3.0']]\n",
    "bmi = bmi.mean(axis=1,skipna=True)\n",
    "\n",
    "# average age data\n",
    "age = pheno[['21003-0.0','21003-1.0','21003-2.0','21003-3.0']]\n",
    "age = age.mean(axis=1,skipna=True)\n",
    "\n",
    "# organize data and drop individuals without covariate data\n",
    "covars['FID'] = pheno['eid']\n",
    "covars['IID'] = pheno['eid']\n",
    "covars['age'] = age\n",
    "covars['bmi'] = bmi\n",
    "covars['sex'] = pheno['31-0.0']\n",
    "covars = covars.dropna()"
   ]
  },
  {
   "cell_type": "code",
   "execution_count": 5,
   "metadata": {},
   "outputs": [],
   "source": [
    "# identify individuals with heart rate and covariate data\n",
    "heartrate_cov = heartrate[heartrate['FID'].isin(covars['FID'])]\n",
    "covars_hr = covars[covars['FID'].isin(heartrate['FID'])]"
   ]
  },
  {
   "cell_type": "markdown",
   "metadata": {},
   "source": [
    "Genotyping data was downloaded into PLINK BED/BIM/FAM files using [ukbgene](http://biobank.ndph.ox.ac.uk/showcase/download.cgi?id=665&ty=ut). There is one trio of PLINK files per chromosome, containing SNP data on all individuals with genoytping data (488,377 individuals)."
   ]
  },
  {
   "cell_type": "code",
   "execution_count": 6,
   "metadata": {},
   "outputs": [],
   "source": [
    "# identify individuals with phenotype data and genotype data\n",
    "genotype_indv = pd.read_table('/mnt/labshare/ravi/ukbiobank/notused/ukb_cal_chr10_v2.fam',header=None,sep=' ')[[0]]"
   ]
  },
  {
   "cell_type": "code",
   "execution_count": 7,
   "metadata": {},
   "outputs": [],
   "source": [
    "heartrate_filt = heartrate_cov[heartrate_cov['FID'].isin(genotype_indv[0])]\n",
    "covars_filt = covars_hr[covars_hr['FID'].isin(genotype_indv[0])]"
   ]
  },
  {
   "cell_type": "code",
   "execution_count": 8,
   "metadata": {},
   "outputs": [],
   "source": [
    "heartrate_filt[['FID','IID']].to_csv('var_filt_ids.tsv',sep='\\t',index=None)\n",
    "heartrate_filt.to_csv('heartrate_id.tsv',sep='\\t',index=None)"
   ]
  },
  {
   "cell_type": "markdown",
   "metadata": {},
   "source": [
    "## PCA\n",
    "\n",
    "To control for possible population stratification, PCA was used to generate 10 principal components to include as coviarates in our analysis. To do so, individuals with genotyping, heart rate, BMI, sex, and age data who identified as \"White\" were isolated into separate BED/BIM/FAM files for a total of 420,553 individuals.\n",
    "\n",
    "Rather than run PCA on all SNPs, we chose to run it on a random sample of 100,000 SNPs instead to reduce to computational burden and processing time. All BIM files were merged, from which 100,000 of the 805,426 SNPs stored in the UK Biobank were randomly selected."
   ]
  },
  {
   "cell_type": "code",
   "execution_count": 11,
   "metadata": {},
   "outputs": [],
   "source": [
    "def filter_beds(directory, id_list):\n",
    "    # take in a directory of FAM files, and filter out individuals in id_list. Then output new BED/BIM/FAM files containing only those individuals. Outputted files have the same name, except for _covfilt attached to the end\n",
    "    for i in os.listdir(directory):\n",
    "        if '.fam' in i:\n",
    "            name = i.split('.fam')[0]\n",
    "            print('filtering.....')\n",
    "            subprocess.run('~/bin/plink2 --bfile ' + directory+name + ' --keep ' + id_list + ' --make-bed --out ' + name+'_covfilt',shell=True,check=True)\n",
    "    \n",
    "            print('Finished filtering ' + name)"
   ]
  },
  {
   "cell_type": "code",
   "execution_count": 13,
   "metadata": {
    "collapsed": true,
    "jupyter": {
     "outputs_hidden": true
    }
   },
   "outputs": [
    {
     "name": "stdout",
     "output_type": "stream",
     "text": [
      "filtering.....\n",
      "Finished filtering ukb_cal_chr10_v2\n",
      "filtering.....\n",
      "Finished filtering ukb_cal_chr11_v2\n",
      "filtering.....\n",
      "Finished filtering ukb_cal_chr12_v2\n",
      "filtering.....\n",
      "Finished filtering ukb_cal_chr13_v2\n",
      "filtering.....\n",
      "Finished filtering ukb_cal_chr14_v2\n",
      "filtering.....\n",
      "Finished filtering ukb_cal_chr15_v2\n",
      "filtering.....\n",
      "Finished filtering ukb_cal_chr16_v2\n",
      "filtering.....\n",
      "Finished filtering ukb_cal_chr17_v2\n",
      "filtering.....\n",
      "Finished filtering ukb_cal_chr18_v2\n",
      "filtering.....\n",
      "Finished filtering ukb_cal_chr19_v2\n",
      "filtering.....\n",
      "Finished filtering ukb_cal_chr1_v2\n",
      "filtering.....\n",
      "Finished filtering ukb_cal_chr20_v2\n",
      "filtering.....\n",
      "Finished filtering ukb_cal_chr21_v2\n",
      "filtering.....\n",
      "Finished filtering ukb_cal_chr22_v2\n",
      "filtering.....\n",
      "Finished filtering ukb_cal_chr2_v2\n",
      "filtering.....\n",
      "Finished filtering ukb_cal_chr3_v2\n",
      "filtering.....\n",
      "Finished filtering ukb_cal_chr4_v2\n",
      "filtering.....\n",
      "Finished filtering ukb_cal_chr5_v2\n",
      "filtering.....\n",
      "Finished filtering ukb_cal_chr6_v2\n",
      "filtering.....\n",
      "Finished filtering ukb_cal_chr7_v2\n",
      "filtering.....\n",
      "Finished filtering ukb_cal_chr8_v2\n",
      "filtering.....\n",
      "Finished filtering ukb_cal_chr9_v2\n",
      "filtering.....\n",
      "Finished filtering ukb_cal_chrMT_v2\n",
      "filtering.....\n",
      "Finished filtering ukb_cal_chrX_v2\n",
      "filtering.....\n",
      "Finished filtering ukb_cal_chrXY_v2\n",
      "filtering.....\n",
      "Finished filtering ukb_cal_chrY_v2\n"
     ]
    }
   ],
   "source": [
    "filter_beds('/mnt/labshare/ravi/ukbiobank/notused/','var_filt_ids.tsv')"
   ]
  },
  {
   "cell_type": "code",
   "execution_count": 14,
   "metadata": {},
   "outputs": [
    {
     "data": {
      "text/plain": [
       "CompletedProcess(args='~/bin/plink --bfile ukb_cal_chr1_v2_covfilt --merge-list filenames.txt --make-bed --out ukball_merged', returncode=0)"
      ]
     },
     "execution_count": 14,
     "metadata": {},
     "output_type": "execute_result"
    }
   ],
   "source": [
    "# combine BED files\n",
    "\n",
    "## output headers to txt file\n",
    "with open('filenames.txt','w') as output:\n",
    "    for i in os.listdir():\n",
    "        if '.bim' in i:\n",
    "            output.write(i.split('.bim')[0])\n",
    "            output.write('\\n')\n",
    "\n",
    "## merge files\n",
    "subprocess.run('~/bin/plink --bfile ukb_cal_chr1_v2_covfilt --merge-list filenames.txt --make-bed --out ukball_merged',shell=True,check=True)"
   ]
  },
  {
   "cell_type": "markdown",
   "metadata": {},
   "source": [
    "Randomly sampled SNPs were compiled into one BED/BIM/FAM trio, and PCA was run using the command:\n",
    "\n",
    "`plink2 --bfile ukball_merged --pca approx 10 --out pcavals`\n",
    "\n",
    "The command outputed a TSV file, containing two column for FID and IID, and one column per PC. These PC columns were appended onto the rest of the covariate data."
   ]
  },
  {
   "cell_type": "code",
   "execution_count": null,
   "metadata": {},
   "outputs": [],
   "source": [
    "# appending PCA results to covariate table\n",
    "\n",
    "## read in table\n",
    "pca = pd.read_table('pcavals.eigenvec')\n",
    "\n",
    "## fix covariate indexes\n",
    "covars_filt = covars_filt.reset_index(drop=True) \n",
    "\n",
    "## add PCA columns\n",
    "for i in range(1,11):\n",
    "    covars_filt['PC'+str(i)] = pca['PC'+str(i)]"
   ]
  },
  {
   "cell_type": "markdown",
   "metadata": {},
   "source": [
    "## GWAS\n",
    "\n",
    "After all covariates were compiled, GWAS was conducted using plink2 against all UK Biobank SNPs on individuals with covariate and heart rate data using the following command:\n",
    "\n",
    "`plink2 --bfile ukball_merged --pheno heartrate_id.tsv --pheno-name hr --covar covariates.tsv --glm no-x-sex --covar-variance-standardize --out ukb_rhr_results`"
   ]
  },
  {
   "cell_type": "markdown",
   "metadata": {},
   "source": [
    "## Filtering SNPs of interest\n",
    "\n",
    "plink2 by default outputs raw P values. Before correcting for multiple-hypothesis testing, we restricted our analysis into two separate tests. One with SNPs occuring in or within +/- 500 bp of mouse sinus node pacemaker cell (PC) and/or right atrial cardiomyocyte (RACM) ATAC peaks, and one with SNPs occuring in or within +/- 500 bp of ATAC peaks differentially open in PC compared to RACM. UCSC liftOver was used to convert mm9 genomic coordinates to hg19 to compare ATAC to SNP data."
   ]
  },
  {
   "cell_type": "markdown",
   "metadata": {},
   "source": [
    "After filtering, bonferroni correction was used to correct p-values per number of SNPs in each individual analysis."
   ]
  }
 ],
 "metadata": {
  "kernelspec": {
   "display_name": "Python 3",
   "language": "python",
   "name": "python3"
  },
  "language_info": {
   "codemirror_mode": {
    "name": "ipython",
    "version": 3
   },
   "file_extension": ".py",
   "mimetype": "text/x-python",
   "name": "python",
   "nbconvert_exporter": "python",
   "pygments_lexer": "ipython3",
   "version": "3.8.5"
  }
 },
 "nbformat": 4,
 "nbformat_minor": 4
}
